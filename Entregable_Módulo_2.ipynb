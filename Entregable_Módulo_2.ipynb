{
  "nbformat": 4,
  "nbformat_minor": 0,
  "metadata": {
    "colab": {
      "provenance": [],
      "collapsed_sections": [
        "90amz3jEk7Yi",
        "5TReWvpwgXPq",
        "3sLEh7otgkIs",
        "PgNYvBP4iGe0"
      ]
    },
    "kernelspec": {
      "name": "python3",
      "display_name": "Python 3"
    },
    "language_info": {
      "name": "python"
    },
    "accelerator": "GPU",
    "gpuClass": "standard"
  },
  "cells": [
    {
      "cell_type": "markdown",
      "source": [
        "# **Momento de Retroalimentación: Módulo 2 Implementación de un modelo de deep learning.**\n",
        "\n",
        "Andrea Vianey Díaz Álvarez \n",
        "A01750147\n"
      ],
      "metadata": {
        "id": "9UvzXVV3kyhu"
      }
    },
    {
      "cell_type": "code",
      "source": [
        "import tensorflow as tf\n",
        "from tensorflow.keras.models import Sequential\n",
        "from tensorflow.keras.layers import *\n",
        "from tensorflow.keras.preprocessing import image\n",
        "import matplotlib.pyplot as plt\n",
        "import numpy as np\n",
        "import pandas as pd"
      ],
      "metadata": {
        "id": "Cq5surNtk4kK"
      },
      "execution_count": 1,
      "outputs": []
    },
    {
      "cell_type": "markdown",
      "source": [
        "## **Importación de datos**"
      ],
      "metadata": {
        "id": "90amz3jEk7Yi"
      }
    },
    {
      "cell_type": "code",
      "source": [
        "(x_train, y_train), (x_test, y_test) = tf.keras.datasets.mnist.load_data()\n",
        "\n",
        "x_train = x_train.astype(\"float32\") / 255\n",
        "x_test = x_test.astype(\"float32\") / 255\n",
        "\n",
        "print(\"x_train shape:\", x_train.shape)\n",
        "print(x_train.shape[0], \"train samples\")\n",
        "print(x_test.shape[0], \"test samples\")\n",
        "\n",
        "labels = [0,1,2,3,4,5,6,7,8,9]\n",
        "\n",
        "# Ejemplo una Imagen\n",
        "plt.imshow(x_train[5])\n",
        "plt.show()\n",
        "print(f\"label : {labels[y_train[5]]}\")"
      ],
      "metadata": {
        "colab": {
          "base_uri": "https://localhost:8080/",
          "height": 374
        },
        "id": "3SsyXsagucR8",
        "outputId": "075ccdd7-a735-4844-fe76-a71165e8e33a"
      },
      "execution_count": 2,
      "outputs": [
        {
          "output_type": "stream",
          "name": "stdout",
          "text": [
            "Downloading data from https://storage.googleapis.com/tensorflow/tf-keras-datasets/mnist.npz\n",
            "11490434/11490434 [==============================] - 0s 0us/step\n",
            "x_train shape: (60000, 28, 28)\n",
            "60000 train samples\n",
            "10000 test samples\n"
          ]
        },
        {
          "output_type": "display_data",
          "data": {
            "text/plain": [
              "<Figure size 432x288 with 1 Axes>"
            ],
            "image/png": "[encoded data removed]"
          },
          "metadata": {
            "needs_background": "light"
          }
        },
        {
          "output_type": "stream",
          "name": "stdout",
          "text": [
            "label : 2\n"
          ]
        }
      ]
    },
    {
      "cell_type": "markdown",
      "source": [
        "## **Modelo CNN**"
      ],
      "metadata": {
        "id": "Yc9X4Z9flA-z"
      }
    },
    {
      "cell_type": "code",
      "source": [
        "model = Sequential([\n",
        "    Conv2D(100, kernel_size=(3, 3), padding='same', strides = 1, activation=\"relu\", input_shape=(28,28,1)),\n",
        "    MaxPooling2D(pool_size=(2, 2), strides = 2),\n",
        "    Conv2D(100, kernel_size=(3, 3), activation=\"relu\"),\n",
        "    MaxPooling2D(pool_size=(2, 2)),\n",
        "    Dropout(0.1),\n",
        "    Flatten(),\n",
        "    Dense(10, activation='softmax')\n",
        "])"
      ],
      "metadata": {
        "id": "Ez4e6K06k9R0"
      },
      "execution_count": 30,
      "outputs": []
    },
    {
      "cell_type": "code",
      "source": [
        "model.summary()"
      ],
      "metadata": {
        "colab": {
          "base_uri": "https://localhost:8080/"
        },
        "id": "5kndQ9_w1rmn",
        "outputId": "2c8b8858-3f32-4a04-8114-fdd19c5fc0b0"
      },
      "execution_count": 31,
      "outputs": [
        {
          "output_type": "stream",
          "name": "stdout",
          "text": [
            "Model: \"sequential_7\"\n",
            "_________________________________________________________________\n",
            " Layer (type)                Output Shape              Param #   \n",
            "=================================================================\n",
            " conv2d_14 (Conv2D)          (None, 28, 28, 100)       1000      \n",
            "                                                                 \n",
            " max_pooling2d_14 (MaxPoolin  (None, 14, 14, 100)      0         \n",
            " g2D)                                                            \n",
            "                                                                 \n",
            " conv2d_15 (Conv2D)          (None, 12, 12, 100)       90100     \n",
            "                                                                 \n",
            " max_pooling2d_15 (MaxPoolin  (None, 6, 6, 100)        0         \n",
            " g2D)                                                            \n",
            "                                                                 \n",
            " dropout_7 (Dropout)         (None, 6, 6, 100)         0         \n",
            "                                                                 \n",
            " flatten_7 (Flatten)         (None, 3600)              0         \n",
            "                                                                 \n",
            " dense_7 (Dense)             (None, 10)                36010     \n",
            "                                                                 \n",
            "=================================================================\n",
            "Total params: 127,110\n",
            "Trainable params: 127,110\n",
            "Non-trainable params: 0\n",
            "_________________________________________________________________\n"
          ]
        }
      ]
    },
    {
      "cell_type": "code",
      "source": [
        "opt = tf.keras.optimizers.Adam(learning_rate=.0005)\n",
        "acc = tf.keras.metrics.SparseCategoricalAccuracy()\n",
        "mae = tf.keras.metrics.MeanAbsoluteError()\n",
        "Batch_size = 128\n",
        "Epochs = 30\n",
        "\n",
        "model.compile(loss='sparse_categorical_crossentropy', optimizer=opt, metrics=[acc, mae])\n",
        "history = model.fit(x_train[...,np.newaxis],y_train, batch_size= Batch_size, epochs= Epochs)\n",
        "\n",
        "print(model.loss)\n",
        "print(model.optimizer)\n",
        "print(model.metrics_names)\n",
        "print(model.optimizer.learning_rate)"
      ],
      "metadata": {
        "colab": {
          "base_uri": "https://localhost:8080/"
        },
        "id": "z1sEp75SyCLR",
        "outputId": "114654e6-ae2c-4488-a5c3-dabe4b1b4a20"
      },
      "execution_count": 32,
      "outputs": [
        {
          "output_type": "stream",
          "name": "stdout",
          "text": [
            "Epoch 1/30\n",
            "469/469 [==============================] - 5s 9ms/step - loss: 0.2939 - sparse_categorical_accuracy: 0.9175 - mean_absolute_error: 4.3737\n",
            "Epoch 2/30\n",
            "469/469 [==============================] - 5s 10ms/step - loss: 0.0801 - sparse_categorical_accuracy: 0.9758 - mean_absolute_error: 4.3737\n",
            "Epoch 3/30\n",
            "469/469 [==============================] - 4s 9ms/step - loss: 0.0584 - sparse_categorical_accuracy: 0.9820 - mean_absolute_error: 4.3737\n",
            "Epoch 4/30\n",
            "469/469 [==============================] - 4s 9ms/step - loss: 0.0463 - sparse_categorical_accuracy: 0.9858 - mean_absolute_error: 4.3737\n",
            "Epoch 5/30\n",
            "469/469 [==============================] - 4s 9ms/step - loss: 0.0396 - sparse_categorical_accuracy: 0.9874 - mean_absolute_error: 4.3737\n",
            "Epoch 6/30\n",
            "469/469 [==============================] - 4s 9ms/step - loss: 0.0337 - sparse_categorical_accuracy: 0.9898 - mean_absolute_error: 4.3737\n",
            "Epoch 7/30\n",
            "469/469 [==============================] - 4s 9ms/step - loss: 0.0289 - sparse_categorical_accuracy: 0.9911 - mean_absolute_error: 4.3737\n",
            "Epoch 8/30\n",
            "469/469 [==============================] - 4s 9ms/step - loss: 0.0257 - sparse_categorical_accuracy: 0.9919 - mean_absolute_error: 4.3737\n",
            "Epoch 9/30\n",
            "469/469 [==============================] - 4s 9ms/step - loss: 0.0234 - sparse_categorical_accuracy: 0.9926 - mean_absolute_error: 4.3737\n",
            "Epoch 10/30\n",
            "469/469 [==============================] - 4s 9ms/step - loss: 0.0202 - sparse_categorical_accuracy: 0.9934 - mean_absolute_error: 4.3737\n",
            "Epoch 11/30\n",
            "469/469 [==============================] - 4s 10ms/step - loss: 0.0182 - sparse_categorical_accuracy: 0.9942 - mean_absolute_error: 4.3737\n",
            "Epoch 12/30\n",
            "469/469 [==============================] - 4s 9ms/step - loss: 0.0159 - sparse_categorical_accuracy: 0.9949 - mean_absolute_error: 4.3737\n",
            "Epoch 13/30\n",
            "469/469 [==============================] - 4s 9ms/step - loss: 0.0145 - sparse_categorical_accuracy: 0.9951 - mean_absolute_error: 4.3737\n",
            "Epoch 14/30\n",
            "469/469 [==============================] - 4s 9ms/step - loss: 0.0130 - sparse_categorical_accuracy: 0.9959 - mean_absolute_error: 4.3737\n",
            "Epoch 15/30\n",
            "469/469 [==============================] - 4s 9ms/step - loss: 0.0107 - sparse_categorical_accuracy: 0.9965 - mean_absolute_error: 4.3737\n",
            "Epoch 16/30\n",
            "469/469 [==============================] - 4s 9ms/step - loss: 0.0099 - sparse_categorical_accuracy: 0.9969 - mean_absolute_error: 4.3737\n",
            "Epoch 17/30\n",
            "469/469 [==============================] - 4s 9ms/step - loss: 0.0086 - sparse_categorical_accuracy: 0.9970 - mean_absolute_error: 4.3737\n",
            "Epoch 18/30\n",
            "469/469 [==============================] - 4s 9ms/step - loss: 0.0077 - sparse_categorical_accuracy: 0.9977 - mean_absolute_error: 4.3737\n",
            "Epoch 19/30\n",
            "469/469 [==============================] - 4s 9ms/step - loss: 0.0070 - sparse_categorical_accuracy: 0.9978 - mean_absolute_error: 4.3737\n",
            "Epoch 20/30\n",
            "469/469 [==============================] - 4s 9ms/step - loss: 0.0068 - sparse_categorical_accuracy: 0.9978 - mean_absolute_error: 4.3737\n",
            "Epoch 21/30\n",
            "469/469 [==============================] - 4s 9ms/step - loss: 0.0061 - sparse_categorical_accuracy: 0.9980 - mean_absolute_error: 4.3737\n",
            "Epoch 22/30\n",
            "469/469 [==============================] - 4s 9ms/step - loss: 0.0044 - sparse_categorical_accuracy: 0.9989 - mean_absolute_error: 4.3737\n",
            "Epoch 23/30\n",
            "469/469 [==============================] - 4s 9ms/step - loss: 0.0057 - sparse_categorical_accuracy: 0.9982 - mean_absolute_error: 4.3737\n",
            "Epoch 24/30\n",
            "469/469 [==============================] - 4s 9ms/step - loss: 0.0049 - sparse_categorical_accuracy: 0.9983 - mean_absolute_error: 4.3737\n",
            "Epoch 25/30\n",
            "469/469 [==============================] - 4s 9ms/step - loss: 0.0050 - sparse_categorical_accuracy: 0.9984 - mean_absolute_error: 4.3737\n",
            "Epoch 26/30\n",
            "469/469 [==============================] - 4s 9ms/step - loss: 0.0041 - sparse_categorical_accuracy: 0.9985 - mean_absolute_error: 4.3737\n",
            "Epoch 27/30\n",
            "469/469 [==============================] - 4s 9ms/step - loss: 0.0040 - sparse_categorical_accuracy: 0.9985 - mean_absolute_error: 4.3737\n",
            "Epoch 28/30\n",
            "469/469 [==============================] - 4s 9ms/step - loss: 0.0034 - sparse_categorical_accuracy: 0.9989 - mean_absolute_error: 4.3737\n",
            "Epoch 29/30\n",
            "469/469 [==============================] - 4s 9ms/step - loss: 0.0040 - sparse_categorical_accuracy: 0.9987 - mean_absolute_error: 4.3737\n",
            "Epoch 30/30\n",
            "469/469 [==============================] - 4s 9ms/step - loss: 0.0033 - sparse_categorical_accuracy: 0.9988 - mean_absolute_error: 4.3737\n",
            "sparse_categorical_crossentropy\n",
            "<keras.optimizers.optimizer_v2.adam.Adam object at 0x7fd0f2573d50>\n",
            "['loss', 'sparse_categorical_accuracy', 'mean_absolute_error']\n",
            "<tf.Variable 'Adam/learning_rate:0' shape=() dtype=float32, numpy=0.0005>\n"
          ]
        }
      ]
    },
    {
      "cell_type": "markdown",
      "source": [
        "## **Resultados**"
      ],
      "metadata": {
        "id": "5TReWvpwgXPq"
      }
    },
    {
      "cell_type": "code",
      "source": [
        "df = pd.DataFrame(history.history)\n",
        "df.plot( y = \"loss\", title = \"Loss vs Epoch\")\n",
        "df.plot( y = \"sparse_categorical_accuracy\", title = \"sparse_categorical_accuracy vs Epoch\")\n",
        "df.plot( y = \"mean_absolute_error\", title = \"mean_absolute_error vs Epoch\")"
      ],
      "metadata": {
        "id": "mb1H_TTtlD-h",
        "colab": {
          "base_uri": "https://localhost:8080/",
          "height": 827
        },
        "outputId": "7e3510c4-f3a4-49ab-85d8-986f12c42197"
      },
      "execution_count": 34,
      "outputs": [
        {
          "output_type": "execute_result",
          "data": {
            "text/plain": [
              "<matplotlib.axes._subplots.AxesSubplot at 0x7fd0f230d090>"
            ]
          },
          "metadata": {},
          "execution_count": 34
        },
        {
          "output_type": "display_data",
          "data": {
            "text/plain": [
              "<Figure size 432x288 with 1 Axes>"
            ],
            "image/png": "[encoded data removed]"
          },
          "metadata": {
            "needs_background": "light"
          }
        },
        {
          "output_type": "display_data",
          "data": {
            "text/plain": [
              "<Figure size 432x288 with 1 Axes>"
            ],
            "image/png": "[encoded data removed]"
          },
          "metadata": {
            "needs_background": "light"
          }
        },
        {
          "output_type": "display_data",
          "data": {
            "text/plain": [
              "<Figure size 432x288 with 1 Axes>"
            ],
            "image/png": "[encoded data removed]"
          },
          "metadata": {
            "needs_background": "light"
          }
        }
      ]
    },
    {
      "cell_type": "markdown",
      "source": [
        "## **Evaluación**"
      ],
      "metadata": {
        "id": "3sLEh7otgkIs"
      }
    },
    {
      "cell_type": "code",
      "source": [
        "loss, accuracy, mae = model.evaluate(x_test[...,np.newaxis], y_test)\n",
        "print(\"loss\", loss)\n",
        "print(\"acc\", accuracy)\n",
        "print(\"mae\", mae)"
      ],
      "metadata": {
        "id": "buVYJsLVtIaQ",
        "colab": {
          "base_uri": "https://localhost:8080/"
        },
        "outputId": "e7ee1eef-b9dc-401c-aa5d-3a75dae94b5d"
      },
      "execution_count": 35,
      "outputs": [
        {
          "output_type": "stream",
          "name": "stdout",
          "text": [
            "313/313 [==============================] - 1s 3ms/step - loss: 0.0408 - sparse_categorical_accuracy: 0.9909 - mean_absolute_error: 4.3630\n",
            "loss 0.040756337344646454\n",
            "acc 0.9908999800682068\n",
            "mae 4.3629984855651855\n"
          ]
        }
      ]
    },
    {
      "cell_type": "markdown",
      "source": [
        "## **Predicciones**"
      ],
      "metadata": {
        "id": "PgNYvBP4iGe0"
      }
    },
    {
      "cell_type": "code",
      "source": [
        "from tables import Column\n",
        "for i in range(6):\n",
        "  random_inx = np.random.choice(x_test.shape[0])\n",
        "  test_image = x_test[random_inx]\n",
        "  plt.imshow(test_image)\n",
        "  plt.show()\n",
        "  print(f\"Label: {labels[y_test[random_inx]]}\")\n",
        "  #Prediccion\n",
        "  pred = model.predict(test_image[np.newaxis,...,np.newaxis])\n",
        "  print(\"Predicción del modelo: \", labels[np.argmax(pred)])"
      ],
      "metadata": {
        "colab": {
          "base_uri": "https://localhost:8080/",
          "height": 1000
        },
        "id": "WnPmbULtiKcb",
        "outputId": "52e6205a-ac6d-4458-83b8-da5d26c4a00b"
      },
      "execution_count": 36,
      "outputs": [
        {
          "output_type": "display_data",
          "data": {
            "text/plain": [
              "<Figure size 432x288 with 1 Axes>"
            ],
            "image/png": "[encoded data removed]"
          },
          "metadata": {
            "needs_background": "light"
          }
        },
        {
          "output_type": "stream",
          "name": "stdout",
          "text": [
            "Label: 6\n",
            "1/1 [==============================] - 0s 161ms/step\n",
            "Predicción del modelo:  6\n"
          ]
        },
        {
          "output_type": "display_data",
          "data": {
            "text/plain": [
              "<Figure size 432x288 with 1 Axes>"
            ],
            "image/png": "[encoded data removed]"
          },
          "metadata": {
            "needs_background": "light"
          }
        },
        {
          "output_type": "stream",
          "name": "stdout",
          "text": [
            "Label: 0\n",
            "1/1 [==============================] - 0s 48ms/step\n",
            "Predicción del modelo:  0\n"
          ]
        },
        {
          "output_type": "display_data",
          "data": {
            "text/plain": [
              "<Figure size 432x288 with 1 Axes>"
            ],
            "image/png": "[encoded data removed]"
          },
          "metadata": {
            "needs_background": "light"
          }
        },
        {
          "output_type": "stream",
          "name": "stdout",
          "text": [
            "Label: 9\n",
            "1/1 [==============================] - 0s 71ms/step\n",
            "Predicción del modelo:  9\n"
          ]
        },
        {
          "output_type": "display_data",
          "data": {
            "text/plain": [
              "<Figure size 432x288 with 1 Axes>"
            ],
            "image/png": "[encoded data removed]"
          },
          "metadata": {
            "needs_background": "light"
          }
        },
        {
          "output_type": "stream",
          "name": "stdout",
          "text": [
            "Label: 7\n",
            "1/1 [==============================] - 0s 113ms/step\n",
            "Predicción del modelo:  7\n"
          ]
        },
        {
          "output_type": "display_data",
          "data": {
            "text/plain": [
              "<Figure size 432x288 with 1 Axes>"
            ],
            "image/png": "[encoded data removed]"
          },
          "metadata": {
            "needs_background": "light"
          }
        },
        {
          "output_type": "stream",
          "name": "stdout",
          "text": [
            "Label: 9\n",
            "1/1 [==============================] - 0s 16ms/step\n",
            "Predicción del modelo:  9\n"
          ]
        },
        {
          "output_type": "display_data",
          "data": {
            "text/plain": [
              "<Figure size 432x288 with 1 Axes>"
            ],
            "image/png": "[encoded data removed]"
          },
          "metadata": {
            "needs_background": "light"
          }
        },
        {
          "output_type": "stream",
          "name": "stdout",
          "text": [
            "Label: 7\n",
            "1/1 [==============================] - 0s 14ms/step\n",
            "Predicción del modelo:  7\n"
          ]
        }
      ]
    }
  ]
}